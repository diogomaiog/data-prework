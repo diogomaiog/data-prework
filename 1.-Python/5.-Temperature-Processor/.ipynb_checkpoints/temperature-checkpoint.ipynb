{
 "cells": [
  {
   "cell_type": "markdown",
   "metadata": {},
   "source": [
    "<img src=\"https://bit.ly/2VnXWr2\" width=\"100\" align=\"left\">"
   ]
  },
  {
   "cell_type": "markdown",
   "metadata": {},
   "source": [
    "# Temperature Sensor\n",
    "\n",
    "There is a temperature sensor in the processor of your company's server. The company wants to analyze the data provided by the sensor to decide if they should change the cooling system for a better one. As changing the cooling system is expensive and you are an excellent data analyst, you can't make a decision without basis.\n",
    "\n",
    "## Tools\n",
    "You don't necessarily need to use all the tools. Maybe you opt to use some of them or completely different ones, they are given to help you shape the exercise. Programming exercises can be solved in many different ways.\n",
    "1. Data structures: **lists**\n",
    "2. Loops: **list comprehension**\n",
    "3. Functions: **min, max, print, len**\n",
    "4. Conditional statements: **if-elif-else**\n",
    "\n",
    "## Tasks\n",
    "The temperatures measured throughout the 24 hours of a day are:"
   ]
  },
  {
   "cell_type": "code",
   "execution_count": 1,
   "metadata": {},
   "outputs": [],
   "source": [
    "temperatures_C = [33, 66, 65, 0, 59, 60, 62, 64, 70, 76, 80, 81, 80, 83, 90, 79, 61, 53, 50, 49, 53, 48, 45, 39]"
   ]
  },
  {
   "cell_type": "markdown",
   "metadata": {},
   "source": [
    "The first element of the list is the temperature at 12am, the second element is the temperature at 1am, and so on. \n",
    "\n",
    "The company has decided that if one of the following events occurs, then the cooling system needs to be replaced for a new one to avoid damaging the processor.\n",
    "* More than 4 temperatures are greater than or equal to 70ºC.\n",
    "* Any temperature is above 80ºC.\n",
    "* The average temperature exceeds 65ºC.\n",
    "\n",
    "Follow the steps so that you can make the decision.\n",
    "\n",
    "#### 1. Find the minimum temperature of the day and store it in a variable."
   ]
  },
  {
   "cell_type": "code",
   "execution_count": 2,
   "metadata": {},
   "outputs": [],
   "source": [
    "minimum_temp = min(temperatures_C)\n",
    "print(minimum_temp)"
   ]
  },
  {
   "cell_type": "markdown",
   "metadata": {},
   "source": [
    "#### 2. Find the maximum temperature of the day and store it in a variable."
   ]
  },
  {
   "cell_type": "code",
   "execution_count": 3,
   "metadata": {},
   "outputs": [],
   "source": [
    "maximum_temp = max (temperatures_C)\n",
    "print(maximum_temp)"
   ]
  },
  {
   "cell_type": "markdown",
   "metadata": {},
   "source": [
    "#### 3. Create a list with the temperatures that are greater than or equal to 70ºC. Store it in a variable."
   ]
  },
  {
   "cell_type": "code",
   "execution_count": 4,
   "metadata": {},
   "outputs": [],
   "source": [
    "greater_equal_70C = []\n",
    "for observation in temperatures_C:\n",
    "    if observation >= 70:\n",
    "        greater_equal_70C.append(observation)\n",
    "print(greater_equal_70C)"
   ]
  },
  {
   "cell_type": "markdown",
   "metadata": {},
   "source": [
    "#### 4. Find the average temperature of the day and store it in a variable."
   ]
  },
  {
   "cell_type": "code",
   "execution_count": 5,
   "metadata": {},
   "outputs": [
    {
     "name": "stdout",
     "output_type": "stream",
     "text": [
      "60.25\n"
     ]
    }
   ],
   "source": [
    "average_temp = sum(temperatures_C) / len(temperatures_C)\n",
    "print(average_temp)"
   ]
  },
  {
   "cell_type": "markdown",
   "metadata": {},
   "source": [
    "#### 5. Imagine that there was a sensor failure at 3am and the data for that specific hour was not recorded. How would you estimate the missing value? Replace the current value of the list at 3am for an estimation. "
   ]
  },
  {
   "cell_type": "code",
   "execution_count": 6,
   "metadata": {},
   "outputs": [
    {
     "name": "stdout",
     "output_type": "stream",
     "text": [
      "[33, 66, 65, 60.25, 59, 60, 62, 64, 70, 76, 80, 81, 80, 83, 90, 79, 61, 53, 50, 49, 53, 48, 45, 39]\n"
     ]
    }
   ],
   "source": [
    "#assuming the missing value is equal to average temperature\n",
    "temperatures_C[3] = average_temp\n",
    "print(temperatures_C)"
   ]
  },
  {
   "cell_type": "markdown",
   "metadata": {},
   "source": [
    "#### 6. Bonus: the maintenance staff is from the United States and does not understand the international metric system. Help them by converting the temperatures from Celsius to Fahrenheit.\n",
    "To know more about temperature conversion check this [link](https://en.wikipedia.org/wiki/Conversion_of_units_of_temperature).\n",
    "\n",
    "**Formula**: \n",
    "\n",
    "$F = 1.8 * C + 32$"
   ]
  },
  {
   "cell_type": "code",
   "execution_count": 7,
   "metadata": {},
   "outputs": [
    {
     "name": "stdout",
     "output_type": "stream",
     "text": [
      "[91.4, 150.8, 149.0, 140.45, 138.2, 140.0, 143.60000000000002, 147.2, 158.0, 168.8, 176.0, 177.8, 176.0, 181.4, 194.0, 174.20000000000002, 141.8, 127.4, 122.0, 120.2, 127.4, 118.4, 113.0, 102.2]\n"
     ]
    }
   ],
   "source": [
    "temperatures_F = []\n",
    "for observation in temperatures_C:\n",
    "    f = 1.8 * observation + 32\n",
    "    temperatures_F.append(f)\n",
    "print(temperatures_F)"
   ]
  },
  {
   "cell_type": "markdown",
   "metadata": {},
   "source": [
    "#### 7. Make a decision!\n",
    "Now it's time to make a decision taking into account what you have seen until now. \n",
    "\n",
    "Remember that if one of the following events occurs, then the cooling system needs to be replaced for a new one to avoid damaging the processor.\n",
    "* More than 4 temperatures are greater than or equal to 70ºC.\n",
    "* Any temperature is above 80ºC.\n",
    "* The average temperature exceeds 65ºC.\n",
    "\n",
    "#### To make your decision, check if any of the three conditions above is met. You might need to use some of the variables you created in steps 1 to 6. Print a message to show if the cooling system needs to be changed or not."
   ]
  },
  {
   "cell_type": "code",
   "execution_count": 8,
   "metadata": {},
   "outputs": [
    {
     "name": "stdout",
     "output_type": "stream",
     "text": [
      "Warning: More than 4 temperatures are greater than or equal to 70ºC.\n",
      "Warning: At least one observation is above 80ºC.\n",
      "\n",
      "The cooling system should be replaced.\n"
     ]
    }
   ],
   "source": [
    "check = 0\n",
    "if len(greater_equal_70C) > 4:\n",
    "    print(\"Warning: More than 4 temperatures are greater than or equal to 70ºC.\")\n",
    "    check += 1\n",
    "\n",
    "i = 0    \n",
    "for element in temperatures_C:\n",
    "    if element > 80:\n",
    "        if i == 0:\n",
    "            print(\"Warning: At least one observation is above 80ºC.\")\n",
    "            check += 1\n",
    "        i += 1\n",
    "        \n",
    "\n",
    "#assuming corrected 3am temperature:\n",
    "corrected_average_temp = average_temp = sum(temperatures_C) / len(temperatures_C)\n",
    "if corrected_average_temp > 65:\n",
    "    print(\"Warning: The average temperature exceeds 65ºC.\")\n",
    "    check += 1\n",
    "\n",
    "if check > 0:\n",
    "#    print(\"A total of\", check,\"conditions were met to require the replacement of the cooling system.\")\n",
    "    print(\"\\nThe cooling system should be replaced.\")\n",
    "if check == 0:\n",
    "    print(\"\\nNone of the conditions were met, the cooling system should not be replaced.\")"
   ]
  },
  {
   "cell_type": "markdown",
   "metadata": {},
   "source": [
    "## Bonus\n",
    "\n",
    "The company has decided that the decision you made is not valid. They want you to analyze the data again but this time, the conditions that need to be met in order to change the cooling system are different.\n",
    "\n",
    "This time, if one of the following events occurs, then the cooling system needs to be replaced:\n",
    "* The temperature is greater than 70ºC during more than 4 consecutive hours.\n",
    "* Any temperature is above 80ºC.\n",
    "* The average temperature exceeds 65ºC.\n",
    "\n",
    "Follow the steps so that you can make the decision.\n",
    "\n",
    "#### 1. Create a list with the hours where the temperature is greater than 70ºC. Store it in a variable."
   ]
  },
  {
   "cell_type": "code",
   "execution_count": 9,
   "metadata": {},
   "outputs": [
    {
     "name": "stdout",
     "output_type": "stream",
     "text": [
      "[9, 10, 11, 12, 13, 14, 15]\n"
     ]
    }
   ],
   "source": [
    "hours_over70c = []\n",
    "h = 0 #hours counter\n",
    "for observation in temperatures_C:\n",
    "    if observation > 70:\n",
    "        hours_over70c.append(h)\n",
    "    h += 1\n",
    "print(hours_over70c)\n"
   ]
  },
  {
   "cell_type": "markdown",
   "metadata": {},
   "source": [
    "#### 2. Check if the list you created in step 1 has more than 4 consecutive hours. "
   ]
  },
  {
   "cell_type": "code",
   "execution_count": 10,
   "metadata": {},
   "outputs": [
    {
     "name": "stdout",
     "output_type": "stream",
     "text": [
      "The list has more than 4 consecutive hours\n"
     ]
    }
   ],
   "source": [
    "consecutive = 1\n",
    "dummy = [5, 9, 10, 11, 12]\n",
    "previous = 0\n",
    "morethanfour = False\n",
    "for hour in hours_over70c:\n",
    "    if hour == previous + 1:\n",
    "            consecutive += 1\n",
    "    else:\n",
    "        consecutive = 1\n",
    "    if consecutive == 5:\n",
    "        print(\"The list has more than 4 consecutive hours\")\n",
    "        morethanfour = True\n",
    "    previous = hour\n",
    "\n"
   ]
  },
  {
   "cell_type": "markdown",
   "metadata": {},
   "source": [
    "#### 3. Make the decision!\n",
    "To make your decision, check if any of the three conditions is met. Print a message to show if the cooling system needs to be changed or not."
   ]
  },
  {
   "cell_type": "code",
   "execution_count": 11,
   "metadata": {},
   "outputs": [
    {
     "name": "stdout",
     "output_type": "stream",
     "text": [
      "Warning: The temperature was greater than 70ºC during more than 4 consecutive hours.\n",
      "Warning: At least one observation is above 80ºC.\n",
      "\n",
      "The cooling system should be replaced.\n"
     ]
    }
   ],
   "source": [
    "check = 0\n",
    "\n",
    "if morethanfour == True:\n",
    "    print(\"Warning: The temperature was greater than 70ºC during more than 4 consecutive hours.\")\n",
    "    check += 1\n",
    "    \n",
    "i = 0    \n",
    "for element in temperatures_C:\n",
    "    if element > 80:\n",
    "        if i == 0:\n",
    "            print(\"Warning: At least one observation is above 80ºC.\")\n",
    "            check += 1\n",
    "        i += 1\n",
    "\n",
    "#assuming corrected 3am temperature:\n",
    "corrected_average_temp = average_temp = sum(temperatures_C) / len(temperatures_C)\n",
    "if corrected_average_temp > 65:\n",
    "    print(\"Warning: The average temperature exceeds 65ºC.\")\n",
    "    check += 1\n",
    "\n",
    "if check > 0:\n",
    "    #print(\"A total of\", check,\"conditions were met to require the replacement of the cooling system.\")\n",
    "    print(\"\\nThe cooling system should be replaced.\")\n",
    "if check == 0:\n",
    "    print(\"\\nNone of the conditions were met, the cooling system should not be replaced.\")"
   ]
  },
  {
   "cell_type": "markdown",
   "metadata": {},
   "source": [
    "#### 4. Find the average value of the temperature lists (ºC and ºF). What is the relation between both average values?"
   ]
  },
  {
   "cell_type": "code",
   "execution_count": 20,
   "metadata": {},
   "outputs": [
    {
     "name": "stdout",
     "output_type": "stream",
     "text": [
      "Average value of the temperature ºC: 62.760416666666664\n",
      "Average value of the temperature ºF: 144.96875\n",
      "\n",
      "We can use the conversion formula to convert the averages to any of the units. \n",
      "The values express the same temperature in different units.\n"
     ]
    }
   ],
   "source": [
    "print(\"Average value of the temperature ºC:\",corrected_average_temp)\n",
    "average_temp_F = sum(temperatures_F) / len(temperatures_F)    \n",
    "print(\"Average value of the temperature ºF:\",average_temp_F)\n",
    "#print(\"C / F =\",corrected_average_temp / average_temp_F) \n",
    "\n",
    "#f = 1.8 * corrected_average_temp + 32\n",
    "#print(f)\n",
    "print(\"\\nWe can use the conversion formula to convert the averages to any of the units. \\nThe values express the same temperature in different units.\")"
   ]
  },
  {
   "cell_type": "markdown",
   "metadata": {},
   "source": [
    "#### 5. Find the standard deviation of the temperature lists (ºC and ºF). What is the relation between both standard deviations?"
   ]
  },
  {
   "cell_type": "code",
   "execution_count": 27,
   "metadata": {},
   "outputs": [
    {
     "name": "stdout",
     "output_type": "stream",
     "text": [
      "Standard deviation of the temperature ºC: 14.956727286515203\n",
      "Standard deviation of the temperature ºF: 26.922109115727363\n"
     ]
    }
   ],
   "source": [
    "#returns the sample standard deviation for a given list of values\n",
    "def sample_stdev(values):\n",
    "    mean = sum(values) / len(values)\n",
    "    sqr_difference_from_mean = []\n",
    "    for element in values:\n",
    "        sqr_difference_from_mean.append((element - mean)**2)\n",
    "    s = (sum(sqr_difference_from_mean)/(len(values) - 1))**0.5\n",
    "    return s\n",
    "\n",
    "print(\"Standard deviation of the temperature ºC:\",sample_stdev(temperatures_C))\n",
    "print(\"Standard deviation of the temperature ºF:\",sample_stdev(temperatures_F))\n",
    "#print(\"C / F =\", sample_stdev(temperatures_C) / sample_stdev(temperatures_F))\n",
    "#f = 1.8 * sample_stdev(temperatures_C) + 32\n",
    "#print(f)\n"
   ]
  }
 ],
 "metadata": {
  "kernelspec": {
   "display_name": "Python 3",
   "language": "python",
   "name": "python3"
  },
  "language_info": {
   "codemirror_mode": {
    "name": "ipython",
    "version": 3
   },
   "file_extension": ".py",
   "mimetype": "text/x-python",
   "name": "python",
   "nbconvert_exporter": "python",
   "pygments_lexer": "ipython3",
   "version": "3.8.3"
  }
 },
 "nbformat": 4,
 "nbformat_minor": 2
}
