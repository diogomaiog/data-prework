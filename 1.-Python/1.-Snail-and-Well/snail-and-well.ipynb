{
 "cells": [
  {
   "cell_type": "markdown",
   "metadata": {},
   "source": [
    "<img src=\"https://bit.ly/2VnXWr2\" width=\"100\" align=\"left\">"
   ]
  },
  {
   "cell_type": "markdown",
   "metadata": {},
   "source": [
    "# The Snail and the Well\n",
    "\n",
    "A snail falls at the bottom of a 125 cm well. Each day the snail rises 30 cm. But at night, while sleeping, slides 20 cm because the walls are wet. How many days does it take for the snail to escape the well?\n",
    "\n",
    "**Hint**: The snail gets out of the well when it surpasses the 125cm of height.\n",
    "\n",
    "## Tools\n",
    "\n",
    "1. Loop: **while**\n",
    "2. Conditional statements: **if-else**\n",
    "3. Function: **print()**\n",
    "\n",
    "## Tasks\n",
    "\n",
    "#### 1. Assign the challenge data to variables with representative names: `well_height`, `daily_distance`, `nightly_distance` and `snail_position`."
   ]
  },
  {
   "cell_type": "code",
   "execution_count": 1,
   "metadata": {},
   "outputs": [],
   "source": [
    "well_height = 125\n",
    "daily_distance = 30\n",
    "nightly_distance = 20\n",
    "snail_position = 0 #snails starts at bottom"
   ]
  },
  {
   "cell_type": "markdown",
   "metadata": {},
   "source": [
    "#### 2. Create a variable `days` to keep count of the days that pass until the snail escapes the well. "
   ]
  },
  {
   "cell_type": "code",
   "execution_count": 2,
   "metadata": {},
   "outputs": [],
   "source": [
    "days = 0"
   ]
  },
  {
   "cell_type": "markdown",
   "metadata": {},
   "source": [
    "#### 3. Find the solution to the challenge using the variables defined above. "
   ]
  },
  {
   "cell_type": "code",
   "execution_count": 3,
   "metadata": {},
   "outputs": [
    {
     "name": "stdout",
     "output_type": "stream",
     "text": [
      "1   10\n",
      "2   20\n",
      "3   30\n",
      "4   40\n",
      "5   50\n",
      "6   60\n",
      "7   70\n",
      "8   80\n",
      "9   90\n",
      "10   100\n",
      "11   110\n",
      "12   120\n",
      "13   130\n"
     ]
    }
   ],
   "source": [
    "while snail_position < well_height:\n",
    "    snail_position = snail_position + daily_distance - nightly_distance\n",
    "    days += 1\n",
    "    print(days,\" \",snail_position)"
   ]
  },
  {
   "cell_type": "markdown",
   "metadata": {},
   "source": [
    "#### 4. Print the solution."
   ]
  },
  {
   "cell_type": "code",
   "execution_count": 4,
   "metadata": {},
   "outputs": [
    {
     "name": "stdout",
     "output_type": "stream",
     "text": [
      "13\n"
     ]
    }
   ],
   "source": [
    "print(days)"
   ]
  },
  {
   "cell_type": "markdown",
   "metadata": {},
   "source": [
    "## Bonus\n",
    "The distance traveled by the snail each day is now defined by a list.\n",
    "```\n",
    "advance_cm = [30, 21, 33, 77, 44, 45, 23, 45, 12, 34, 55]\n",
    "```\n",
    "On the first day, the snail rises 30cm but during the night it slides 20cm. On the second day, the snail rises 21cm but during the night it slides 20cm, and so on. \n",
    "\n",
    "#### 1. How many days does it take for the snail to escape the well?\n",
    "Follow the same guidelines as in the previous challenge.\n",
    "\n",
    "**Hint**: Remember that the snail gets out of the well when it surpasses the 125cm of height."
   ]
  },
  {
   "cell_type": "code",
   "execution_count": 9,
   "metadata": {},
   "outputs": [
    {
     "name": "stdout",
     "output_type": "stream",
     "text": [
      "6\n"
     ]
    }
   ],
   "source": [
    "advance_cm = [30, 21, 33, 77, 44, 45, 23, 45, 12, 34, 55]\n",
    "\n",
    "#resetting variables\n",
    "snail_position = 0 #snails starts at bottom\n",
    "days  = 0\n",
    "\n",
    "while snail_position < well_height:\n",
    "    days += 1\n",
    "    snail_position = snail_position + advance_cm[days - 1] - nightly_distance\n",
    "    #print(days,\" \",advance_cm[days - 1], snail_position)\n",
    "print(days)"
   ]
  },
  {
   "cell_type": "markdown",
   "metadata": {},
   "source": [
    "#### 2. What is its maximum displacement in one day? And its minimum? Calculate the displacement using only the travel distance of the days used to get out of the well. \n",
    "**Hint**: Remember that displacement means the total distance risen taking into account that the snail slides at night.  "
   ]
  },
  {
   "cell_type": "code",
   "execution_count": 14,
   "metadata": {},
   "outputs": [
    {
     "name": "stdout",
     "output_type": "stream",
     "text": [
      "1   10   10\n",
      "2   11   1\n",
      "3   24   13\n",
      "4   81   57\n",
      "5   105   24\n",
      "6   130   25\n",
      "[10, 1, 13, 57, 24, 25]\n",
      "Maximum displacement:  57\n",
      "Minimum displacement:  1\n"
     ]
    }
   ],
   "source": [
    "displacement = []\n",
    "\n",
    "#resetting variables\n",
    "snail_position = 0 #snails starts at bottom\n",
    "days  = 0\n",
    "\n",
    "while snail_position < well_height:\n",
    "    days += 1\n",
    "    change = snail_position + advance_cm[days - 1] - nightly_distance - snail_position\n",
    "    displacement.append(change)\n",
    "    snail_position = snail_position + advance_cm[days - 1] - nightly_distance\n",
    "    #print(days,\" \",snail_position,\" \",change)\n",
    "#print(displacement)\n",
    "\n",
    "maximum_displacement = max(displacement)\n",
    "minimum_displacement = min(displacement)\n",
    "print(\"Maximum displacement: \",maximum_displacement)\n",
    "print(\"Minimum displacement: \",minimum_displacement)"
   ]
  },
  {
   "cell_type": "markdown",
   "metadata": {},
   "source": [
    "#### 3. What is its average progress? Take into account the snail slides at night."
   ]
  },
  {
   "cell_type": "code",
   "execution_count": 15,
   "metadata": {},
   "outputs": [
    {
     "name": "stdout",
     "output_type": "stream",
     "text": [
      "Average displacement:  21.666666666666668\n"
     ]
    }
   ],
   "source": [
    "average_displacement = sum(displacement) / len(displacement)\n",
    "print(\"Average displacement: \", average_displacement)"
   ]
  },
  {
   "cell_type": "markdown",
   "metadata": {},
   "source": [
    "#### 4. What is the standard deviation of its displacement? Take into account the snail slides at night."
   ]
  },
  {
   "cell_type": "code",
   "execution_count": 20,
   "metadata": {},
   "outputs": [
    {
     "name": "stdout",
     "output_type": "stream",
     "text": [
      "Standard deviation of snail displacement:  19.510680835549195\n"
     ]
    }
   ],
   "source": [
    "sqr_difference_from_mean = []\n",
    "for element in displacement:\n",
    "    sqr_difference_from_mean.append((element - average_displacement)**2)\n",
    "s = (sum(sqr_difference_from_mean)/(len(displacement) - 1))**0.5\n",
    "print(\"Standard deviation of snail displacement: \",s)"
   ]
  }
 ],
 "metadata": {
  "kernelspec": {
   "display_name": "Python 3",
   "language": "python",
   "name": "python3"
  },
  "language_info": {
   "codemirror_mode": {
    "name": "ipython",
    "version": 3
   },
   "file_extension": ".py",
   "mimetype": "text/x-python",
   "name": "python",
   "nbconvert_exporter": "python",
   "pygments_lexer": "ipython3",
   "version": "3.8.3"
  }
 },
 "nbformat": 4,
 "nbformat_minor": 2
}
